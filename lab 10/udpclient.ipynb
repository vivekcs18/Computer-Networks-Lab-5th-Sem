{
 "cells": [
  {
   "cell_type": "code",
   "execution_count": 1,
   "metadata": {},
   "outputs": [
    {
     "name": "stdout",
     "output_type": "stream",
     "text": [
      "Enter file nametextfile\n",
      "From Server: b'hello this is test file for udp connection test\\n'\n"
     ]
    }
   ],
   "source": [
    "from socket import *\n",
    "serverName = \"127.0.0.1\"\n",
    "serverPort = 12000\n",
    "clientSocket = socket(AF_INET,SOCK_DGRAM)\n",
    "sentence = input(\"Enter file name\")\n",
    "clientSocket.sendto(bytes(sentence,\"utf-8\"),(serverName,serverPort))\n",
    "filecontents,addr = clientSocket.recvfrom(2048)\n",
    "print ('From Server:', filecontents)\n",
    "clientSocket.close()"
   ]
  }
 ],
 "metadata": {
  "kernelspec": {
   "display_name": "Python 3",
   "language": "python",
   "name": "python3"
  },
  "language_info": {
   "codemirror_mode": {
    "name": "ipython",
    "version": 3
   },
   "file_extension": ".py",
   "mimetype": "text/x-python",
   "name": "python",
   "nbconvert_exporter": "python",
   "pygments_lexer": "ipython3",
   "version": "3.8.3"
  }
 },
 "nbformat": 4,
 "nbformat_minor": 4
}
