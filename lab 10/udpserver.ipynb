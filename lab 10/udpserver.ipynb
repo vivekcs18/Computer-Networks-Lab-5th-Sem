{
 "cells": [
  {
   "cell_type": "code",
   "execution_count": null,
   "metadata": {},
   "outputs": [
    {
     "name": "stdout",
     "output_type": "stream",
     "text": [
      "The server is ready to receive\n",
      "sent back to client hello this is test file for udp connection test\n",
      "\n"
     ]
    }
   ],
   "source": [
    "from socket import *\n",
    "serverPort = 12000\n",
    "serverSocket = socket(AF_INET,SOCK_DGRAM)\n",
    "serverSocket.bind((\"127.0.0.1\",serverPort))\n",
    "print (\"The server is ready to receive\")\n",
    "while 1:\n",
    "    sentence, addr = serverSocket.recvfrom(2048)\n",
    "    file=open(sentence,\"r\")\n",
    "    l=file.read(2048) \n",
    "    serverSocket.sendto(bytes(l,\"utf-8\"),addr)\n",
    "    print(\"sent back to client\",l)\n",
    "file.close()"
   ]
  }
 ],
 "metadata": {
  "kernelspec": {
   "display_name": "Python 3",
   "language": "python",
   "name": "python3"
  },
  "language_info": {
   "codemirror_mode": {
    "name": "ipython",
    "version": 3
   },
   "file_extension": ".py",
   "mimetype": "text/x-python",
   "name": "python",
   "nbconvert_exporter": "python",
   "pygments_lexer": "ipython3",
   "version": "3.8.3"
  }
 },
 "nbformat": 4,
 "nbformat_minor": 4
}
