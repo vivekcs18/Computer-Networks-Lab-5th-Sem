{
 "cells": [
  {
   "cell_type": "code",
   "execution_count": null,
   "metadata": {},
   "outputs": [],
   "source": [
    "from socket import *\n",
    "\n",
    "serverName = \"127.0.0.1\"\n",
    "serverPort = 12000\n",
    "\n",
    "clientSocket = socket(AF_INET, SOCK_STREAM)\n",
    "clientSocket.connect((serverName,serverPort))\n",
    "\n",
    "sentence = input(\"Enter file name\")\n",
    "clientSocket.send(sentence.encode())\n",
    "filecontents = clientSocket.recv(1024).decode()\n",
    "print ('From Server:', filecontents)\n",
    "\n",
    "clientSocket.close()"
   ]
  }
 ],
 "metadata": {
  "kernelspec": {
   "display_name": "Python 3",
   "language": "python",
   "name": "python3"
  },
  "language_info": {
   "codemirror_mode": {
    "name": "ipython",
    "version": 3
   },
   "file_extension": ".py",
   "mimetype": "text/x-python",
   "name": "python",
   "nbconvert_exporter": "python",
   "pygments_lexer": "ipython3",
   "version": "3.8.3"
  }
 },
 "nbformat": 4,
 "nbformat_minor": 4
}
