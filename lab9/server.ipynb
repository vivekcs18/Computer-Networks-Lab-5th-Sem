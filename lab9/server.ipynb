{
 "cells": [
  {
   "cell_type": "code",
   "execution_count": null,
   "metadata": {},
   "outputs": [
    {
     "name": "stdout",
     "output_type": "stream",
     "text": [
      "The server is ready to receive\n"
     ]
    }
   ],
   "source": [
    "from socket import *\n",
    "\n",
    "serverName= \"127.0.0.1\"\n",
    "serverPort = 12000\n",
    "\n",
    "serverSocket = socket(AF_INET,SOCK_STREAM)\n",
    "serverSocket.bind((serverName,serverPort))\n",
    "serverSocket.listen(1)\n",
    "print (\"The server is ready to receive\")\n",
    "while 1:\n",
    "    connectionSocket, addr = serverSocket.accept()\n",
    "    sentence = connectionSocket.recv(1024).decode() \n",
    "    file=open(sentence,\"r\")\n",
    "    l=file.read(1024) \n",
    "    connectionSocket.send(l.encode())\n",
    "    file.close()\n",
    "connectionSocket.close()"
   ]
  },
  {
   "cell_type": "code",
   "execution_count": null,
   "metadata": {},
   "outputs": [],
   "source": []
  },
  {
   "cell_type": "code",
   "execution_count": null,
   "metadata": {},
   "outputs": [],
   "source": []
  }
 ],
 "metadata": {
  "kernelspec": {
   "display_name": "Python 3",
   "language": "python",
   "name": "python3"
  },
  "language_info": {
   "codemirror_mode": {
    "name": "ipython",
    "version": 3
   },
   "file_extension": ".py",
   "mimetype": "text/x-python",
   "name": "python",
   "nbconvert_exporter": "python",
   "pygments_lexer": "ipython3",
   "version": "3.8.3"
  }
 },
 "nbformat": 4,
 "nbformat_minor": 4
}
