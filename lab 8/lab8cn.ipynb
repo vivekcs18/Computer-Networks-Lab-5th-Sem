{
 "cells": [
  {
   "cell_type": "code",
   "execution_count": 1,
   "metadata": {},
   "outputs": [],
   "source": [
    "import os\n",
    "clear = lambda: os.system('clear')"
   ]
  },
  {
   "cell_type": "code",
   "execution_count": 2,
   "metadata": {},
   "outputs": [],
   "source": [
    "class Client:\n",
    "    def __init__(self, rate = int, data = []):\n",
    "        self.rate = rate\n",
    "        self.data = data\n",
    "\n",
    "    def __str__(self):\n",
    "        return str([str(self.rate), str(self.data)])"
   ]
  },
  {
   "cell_type": "code",
   "execution_count": 3,
   "metadata": {},
   "outputs": [],
   "source": [
    "class Buffer:\n",
    "    def __init__(self, buffer_size = int, buffer = []):\n",
    "        self.buffer_size = buffer_size\n",
    "        self.buffer = buffer\n",
    "\n",
    "    def checkstate(self):\n",
    "        if len(self.buffer) == 0:\n",
    "            return True\n",
    "\n",
    "    def __str__(self):\n",
    "        return str([str(self.buffer_size), str(self.buffer)]);"
   ]
  },
  {
   "cell_type": "code",
   "execution_count": null,
   "metadata": {},
   "outputs": [],
   "source": [
    "basestate = True\n",
    "sec = 1\n",
    "buffer = Buffer(int(input(\"Enter buffer size\")))\n",
    "client = Client(int(input(\"Enter client acceptance rate in bps\")))\n",
    "data_to_send = str"
   ]
  },
  {
   "cell_type": "code",
   "execution_count": null,
   "metadata": {},
   "outputs": [],
   "source": [
    "while basestate:\n",
    "    data_to_send = input(\"Enter a string send by the server\")\n",
    "    count = 0\n",
    "    if buffer.checkstate():\n",
    "        for i in range(0, len(data_to_send)):\n",
    "            if i < client.rate:\n",
    "                client.data.append(data_to_send[i])\n",
    "            else:\n",
    "                if count < buffer.buffer_size:\n",
    "                    buffer.buffer.append(data_to_send[i])\n",
    "                    count = len(buffer.buffer)\n",
    "                else:\n",
    "                    print(\"Data loss\" + data_to_send[i])\n",
    "    else:\n",
    "        j=0\n",
    "        for i in range(0, len(data_to_send)+len(buffer.buffer)):\n",
    "            if i < client.rate:\n",
    "                if len(buffer.buffer):\n",
    "                    client.data.append(buffer.buffer[0])\n",
    "                    del buffer.buffer[0]\n",
    "                else:\n",
    "                    client.data.append(data_to_send[j])\n",
    "                    j += 1\n",
    "            else:\n",
    "                if len(buffer.buffer) <= buffer.buffer_size:\n",
    "                    if j < len(data_to_send):\n",
    "                        buffer.buffer.append(data_to_send[j])\n",
    "                        j += 1\n",
    "                else:\n",
    "                    if j < len(data_to_send):\n",
    "                        print(\"Data loss\" + data_to_send[j])\n",
    "                        j += 1;"
   ]
  }
 ],
 "metadata": {
  "kernelspec": {
   "display_name": "Python 3",
   "language": "python",
   "name": "python3"
  },
  "language_info": {
   "codemirror_mode": {
    "name": "ipython",
    "version": 3
   },
   "file_extension": ".py",
   "mimetype": "text/x-python",
   "name": "python",
   "nbconvert_exporter": "python",
   "pygments_lexer": "ipython3",
   "version": "3.8.3"
  }
 },
 "nbformat": 4,
 "nbformat_minor": 4
}
